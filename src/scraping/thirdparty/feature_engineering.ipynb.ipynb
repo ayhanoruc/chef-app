{
  "cells": [
    {
      "cell_type": "code",
      "execution_count": 2,
      "metadata": {
        "id": "rhNE3Uw7sVP8"
      },
      "outputs": [],
      "source": [
        "import pandas as pd\n",
        "import re\n",
        "import os ,sys\n",
        "from typing import List, Dict "
      ]
    },
    {
      "cell_type": "code",
      "execution_count": 3,
      "metadata": {
        "id": "PAOsbjq8r_a5"
      },
      "outputs": [],
      "source": [
        "def read_xlsx(file_path:str, index = False)->pd.DataFrame:\n",
        "    df = pd.read_excel(file_path, header=0,index_col = None )\n",
        "    print(df.info())\n",
        "    return df\n",
        "\n",
        "\n",
        "\n",
        "\n",
        "def record_to_json(path:str):\n",
        "    \"\"\"\n",
        "    Converts a given record file in .xlsx format to JSON format.\n",
        "\n",
        "    Parameters:\n",
        "    - path (str): The path to the record file.\n",
        "\n",
        "    Returns:\n",
        "    None\n",
        "    \"\"\"\n",
        "    json_path = os.path.splitext(path)[0]+\".json\"\n",
        "    data = read_xlsx(path).to_json(json_path,orient=\"records\", indent=4) # here indent=4 makes it prettier\n",
        "    print(f\"Data saved to {json_path}\")\n"
      ]
    },
    {
      "cell_type": "code",
      "execution_count": 4,
      "metadata": {
        "id": "jQMjyv95sW6Q"
      },
      "outputs": [],
      "source": [
        "def image_url_parser(recipe_card:str)->str:\n",
        "\n",
        "    pattern = r'https[^\"]+\\.jpg'\n",
        "    print(recipe_card)\n",
        "    match = re.findall(pattern, recipe_card)\n",
        "    if match:\n",
        "        return match[0]\n",
        "\n",
        "    return None"
      ]
    },
    {
      "cell_type": "code",
      "execution_count": 5,
      "metadata": {},
      "outputs": [
        {
          "data": {
            "text/plain": [
              "'chineese_appetizers'"
            ]
          },
          "execution_count": 5,
          "metadata": {},
          "output_type": "execute_result"
        }
      ],
      "source": [
        "file_path = r\"C:\\Users\\ayhan\\Desktop\\ChefApp\\artifacts\\recipes\\new_data\\chineese\\chineese_appetizers.xlsx\"\n",
        "sub_category = file_path.split(\"\\\\\")[-1].split(\".\")[0]\n",
        "sub_category"
      ]
    },
    {
      "cell_type": "code",
      "execution_count": 329,
      "metadata": {},
      "outputs": [],
      "source": [
        "import os\n",
        "import re\n",
        "import pandas as pd\n",
        "from typing import List\n",
        "\n",
        "class Preprocessor:\n",
        "    def __init__(self) -> None:\n",
        "        print(\"preprocessor initialized\")\n",
        "        self.df = pd.DataFrame([])  # initialize an empty dataframe\n",
        "        self.file_path = None\n",
        "\n",
        "    def read_xlsx(self, file_path: str, features: List, index_col=False) -> None:\n",
        "        try:\n",
        "            sub_category = file_path.split(\"\\\\\")[-1].split(\".\")[0]\n",
        "            self.file_path = file_path\n",
        "            df = pd.read_excel(file_path, header=0, index_col=None, usecols=features)\n",
        "            df.drop_duplicates(inplace=True)  # remove duplicated rows, if any\n",
        "            df.drop(df[df[\"recipe_directions\"].isnull()].index, inplace=True)  # remove rows with null values in \"recipe_directions\" column\n",
        "            df[\"sub_category\"] = sub_category  # common column for all rows, derived from file name\n",
        "            self.df = df\n",
        "            print(df.info())\n",
        "        except Exception as e:\n",
        "            print(\"error occurred while reading xlsx file: \", e)\n",
        "\n",
        "\n",
        "\n",
        "    def df_to_json(self, path: str = None) -> None:\n",
        "        \"\"\"\n",
        "        Converts a given record file in .xlsx format to JSON format.\n",
        "        \"\"\"\n",
        "        if path is None:\n",
        "            path = os.path.splitext(self.file_path)[0] + \".json\"\n",
        "\n",
        "        if self.df.empty:\n",
        "            raise ValueError(\"DataFrame is empty. Please use read_xlsx to populate the DataFrame first.\")\n",
        "\n",
        "        self.df.to_json(path, orient=\"records\", indent=4)\n",
        "        print(f\"JSON saved to {path}\")\n",
        "\n",
        "\n",
        "\n",
        "    def image_url_parser(self, recipe_card: str) -> str:\n",
        "        pattern = r'https[^\"]+\\.jpg'\n",
        "        print(recipe_card)\n",
        "        match = re.findall(pattern, recipe_card)\n",
        "        if match:\n",
        "            return match[0]\n",
        "        return None\n",
        "\n",
        "\n",
        "    def df_img_url_parser(self, col_name: str = \"card\") -> None:\n",
        "        self.df[\"image_url_formatted\"] = self.df[col_name].apply(self.image_url_parser)\n",
        "        \n",
        "\n",
        "    def recipe_tag_formatter(self) -> None:\n",
        "        if \"recipe_tags\" not in self.df.columns:\n",
        "            raise ValueError(\"The dataframe does not contain the 'recipe_tags' column.\")\n",
        "\n",
        "        self.df.drop(self.df[self.df[\"recipe_tags\"].isnull()].index, inplace=True)  # remove rows with no recipe_tags\n",
        "        \n",
        "        self.df[\"recipe_tags_formatted\"] = self.df[\"recipe_tags\"].apply(lambda tags: [kv[\"recipe_tags\"] for kv in eval(tags)])\n",
        "        # Get the common sub_category value\n",
        "        common_sub_category = self.df[\"sub_category\"].iloc[0]\n",
        "        \n",
        "        # Append the common_sub_category to each list in the \"recipe_tags_formatted\" column\n",
        "        self.df[\"recipe_tags_formatted\"] = self.df[\"recipe_tags_formatted\"].apply(lambda element: element + [common_sub_category])\n",
        "\n",
        "\n",
        "    def details_table_formatter(self, table: List) -> dict:\n",
        "        print(eval(table))\n",
        "\n",
        "        table_str = eval(table)[0][\"recipe_details_table\"]\n",
        "        print(type(table_str))\n",
        "        # Split the details string based on both newline and \":\"\n",
        "        details_list = re.split(r'\\n|:', table_str)\n",
        "\n",
        "        # Remove empty strings and strip any leading/trailing whitespace\n",
        "        table_detail_list = [detail.strip() for detail in details_list if detail.strip()]\n",
        "\n",
        "        print(table_detail_list)\n",
        "        # Initialize a dictionary with specific keys and default values\n",
        "        table_details_dict = {\n",
        "            \"Prep Time\": \"None\",\n",
        "            \"Cook Time\": \"None\",\n",
        "            \"Additional Time\": \"None\",\n",
        "            \"Total Time\": \"None\",\n",
        "            \"Servings\": \"None\",\n",
        "            \"Yield\": \"None\"\n",
        "        }\n",
        "        \n",
        "        \n",
        "        for index , item in enumerate(table_detail_list):\n",
        "            print(item)\n",
        "            if item in table_details_dict:\n",
        "                table_details_dict[item] = table_detail_list[index+1]\n",
        "\n",
        "        \n",
        "        return table_details_dict\n",
        "\n",
        "\n",
        "    def recipe_details_table_formatter(self) -> None:\n",
        "        if \"recipe_details_table\" not in self.df.columns:\n",
        "            raise ValueError(\"The dataframe does not contain the 'recipe_details_table' column.\")\n",
        "\n",
        "        #self.df.drop(self.df[~self.df[\"recipe_details_table\"].str.contains(\"Time\")].index, inplace=True)  # remove rows not containing any time detail.\n",
        "\n",
        "        #print(eval(self.df[\"recipe_details_table\"].iloc[0])) List[dict[str, str]]\n",
        "        self.df[\"recipe_details_formatted\"] = self.df[\"recipe_details_table\"].apply(lambda tags: [kv[\"recipe_details_table\"] for kv in eval(tags)])\n",
        "        # Convert \"recipe_details_table\" into a dictionary of key-value pairs\n",
        "        self.df[\"recipe_details_formatted\"] = self.df[\"recipe_details_table\"].apply(lambda tags: self.details_table_formatter(tags))\n",
        "\n",
        "\n",
        "\n",
        "\n",
        "    def ingredient_list_formatter(self, ingredients: List) -> List:\n",
        "        \"\"\"Assumes the list has 1 element, if it contains multiple elements, then just ' '.join()  them \"\"\"\n",
        "        ingredient_str = ingredients[0]\n",
        "        ingredients_list = ingredient_str.split('\\n')\n",
        "\n",
        "        # Remove empty strings and strip any leading/trailing whitespace\n",
        "        ingredients_list = [ingredient.strip() for ingredient in ingredients_list if ingredient.strip()]\n",
        "        return ingredients_list\n",
        "\n",
        "\n",
        "    def recipe_ingredients_formatter(self) -> None:\n",
        "        if \"recipe_ingredients\" not in self.df.columns:\n",
        "            raise ValueError(\"The dataframe does not contain the 'recipe_ingredients' column.\")\n",
        "\n",
        "        self.df[\"recipe_ingredients_formatted\"] = self.df[\"recipe_ingredients\"].apply(lambda tags: [kv[\"recipe_ingredients\"] for kv in eval(tags)])\n",
        "        self.df[\"recipe_ingredients_formatted\"] = self.df[\"recipe_ingredients_formatted\"].apply(lambda ingredient_list: self.ingredient_list_formatter(ingredient_list))\n",
        "\n",
        "\n",
        "    def recipe_directions_formatter(self) -> None:\n",
        "        if \"recipe_directions\" not in self.df.columns:\n",
        "            raise ValueError(\"The dataframe does not contain the 'recipe_directions' column.\")\n",
        "\n",
        "        self.df.drop(self.df[self.df[\"recipe_directions\"].apply(lambda element: len(element)) <= 2].index, inplace=True)\n",
        "        self.df[\"recipe_directions_formatted\"] = self.df[\"recipe_directions\"].apply(lambda tags: [kv[\"recipe_directions\"] for kv in eval(tags)])\n",
        "\n",
        "\n",
        "\n",
        "\n",
        "    def recipe_nutrition_formatter(self, nutrition_details: List) -> dict:\n",
        "        print(nutrition_details)\n",
        "        nutrition_str = nutrition_details[0]\n",
        "        nutrition_list = nutrition_str.split('\\n')\n",
        "\n",
        "        # Remove empty strings and strip any leading/trailing whitespace\n",
        "\n",
        "        nutrition_list = [nutrition.strip() for nutrition in nutrition_list if nutrition.strip()]\n",
        "        nutrition_info = {\n",
        "            \"calories\": 0,\n",
        "            \"fat\": 0,\n",
        "            \"carbs\": 0,\n",
        "            \"protein\": 0\n",
        "        }\n",
        "\n",
        "        for index , item in enumerate(nutrition_list):\n",
        "            if item.lower() in nutrition_info:\n",
        "                nutrition_info[item.lower()] = nutrition_list[index - 1]\n",
        "            \n",
        "\n",
        "        return nutrition_info\n",
        "\n",
        "\n",
        "    def recipe_nutrition_details_formatter(self) -> None:\n",
        "        if \"recipe_nutrition_details\" not in self.df.columns:\n",
        "            raise ValueError(\"The dataframe does not contain the 'recipe_nutrition_details' column.\")\n",
        "\n",
        "        self.df.drop(self.df[self.df[\"recipe_nutrition_details\"].apply(lambda element: len(element)) <= 2].index, inplace=True)\n",
        "        self.df[\"recipe_nutrition_details_formatted\"] = self.df[\"recipe_nutrition_details\"].apply(lambda tags: [kv[\"recipe_nutrition_details\"] for kv in eval(tags)])\n",
        "\n",
        "        self.df[\"recipe_nutrition_details_formatted\"] = self.df[\"recipe_nutrition_details_formatted\"].apply(lambda element: self.recipe_nutrition_formatter(element))\n",
        "\n",
        "\n",
        "    def clean_df(self, cols: List) -> None:\n",
        "        # Check if the specified columns exist in the DataFrame\n",
        "        non_existing_cols = [col for col in cols if col not in self.df.columns]\n",
        "        \n",
        "        if non_existing_cols:\n",
        "            raise ValueError(f\"The following columns do not exist in the DataFrame: {non_existing_cols}\")\n",
        "        \n",
        "        # Drop the specified columns\n",
        "        self.df.drop(cols, axis=1, inplace=True)\n",
        "        print(\"Unwanted columns dropped successfully!\")\n",
        "        \n",
        "\n"
      ]
    },
    {
      "cell_type": "markdown",
      "metadata": {
        "id": "IXTrfUIrsrN9"
      },
      "source": [
        "## FLOW\n",
        "1- create an xlsx reformatter pipeline\n",
        "  - unnecessary features\n",
        "  - missing rows (any of the wanted col_names)\n",
        "  - feature engineering via regex and dict indexing\n",
        "\n",
        "2- record to json, orient record, indent = 4"
      ]
    },
    {
      "cell_type": "code",
      "execution_count": 207,
      "metadata": {
        "colab": {
          "base_uri": "https://localhost:8080/",
          "height": 1000
        },
        "id": "l-1Vme3Nsf2m",
        "outputId": "40c1a6de-0038-4acc-b2ed-0ae25a6cc0f0"
      },
      "outputs": [
        {
          "data": {
            "text/plain": [
              "'[{\"recipe_nutrition_details\":\"98\\\\nCalories\\\\n\\\\n\\\\n6g \\\\nFat\\\\n\\\\n\\\\n6g \\\\nCarbs\\\\n\\\\n\\\\n7g \\\\nProtein\"}]'"
            ]
          },
          "execution_count": 207,
          "metadata": {},
          "output_type": "execute_result"
        }
      ],
      "source": [
        "df = pd.read_excel(r\"C:\\Users\\ayhan\\Desktop\\ChefApp\\artifacts\\recipes\\new_data\\chineese\\chineese_appetizers.xlsx\" )\n",
        "df.head(5)\n",
        "df[\"recipe_nutrition_details\"].iloc[1]"
      ]
    },
    {
      "cell_type": "code",
      "execution_count": 210,
      "metadata": {},
      "outputs": [
        {
          "data": {
            "text/plain": [
              "'[{\"recipe_details_table\":\"Prep Time:\\\\n10 mins\\\\n\\\\n\\\\nCook Time:\\\\n 2 hrs 45 mins\\\\n\\\\n\\\\nTotal Time:\\\\n 2 hrs 55 mins\\\\n\\\\n\\\\nServings:\\\\n10 \\\\n\\\\n\\\\nYield:\\\\n10 eggs\"}]'"
            ]
          },
          "execution_count": 210,
          "metadata": {},
          "output_type": "execute_result"
        }
      ],
      "source": [
        "df.recipe_details_table.iloc[1]"
      ]
    },
    {
      "cell_type": "code",
      "execution_count": 330,
      "metadata": {},
      "outputs": [],
      "source": [
        "features_to_use = [\"card\", \"card-href\", \"sub_category\", \"recipe_name\", \"recipe_details_table\",\"recipe_ingredients\", \"recipe_directions\", \"recipe_tags\", \"recipe_nutrition_details\"]"
      ]
    },
    {
      "cell_type": "code",
      "execution_count": 331,
      "metadata": {},
      "outputs": [
        {
          "name": "stdout",
          "output_type": "stream",
          "text": [
            "preprocessor initialized\n",
            "<class 'pandas.core.frame.DataFrame'>\n",
            "RangeIndex: 29 entries, 1 to 29\n",
            "Data columns (total 9 columns):\n",
            " #   Column                    Non-Null Count  Dtype \n",
            "---  ------                    --------------  ----- \n",
            " 0   sub_category              29 non-null     object\n",
            " 1   card                      29 non-null     object\n",
            " 2   card-href                 29 non-null     object\n",
            " 3   recipe_name               29 non-null     object\n",
            " 4   recipe_details_table      29 non-null     object\n",
            " 5   recipe_ingredients        29 non-null     object\n",
            " 6   recipe_directions         29 non-null     object\n",
            " 7   recipe_tags               29 non-null     object\n",
            " 8   recipe_nutrition_details  29 non-null     object\n",
            "dtypes: object(9)\n",
            "memory usage: 2.2+ KB\n",
            "None\n"
          ]
        }
      ],
      "source": [
        "preprocessor = Preprocessor()\n",
        "df = preprocessor.read_xlsx(r\"C:\\Users\\ayhan\\Desktop\\ChefApp\\artifacts\\recipes\\new_data\\chineese\\chineese_appetizers.xlsx\", features_to_use)"
      ]
    },
    {
      "cell_type": "code",
      "execution_count": null,
      "metadata": {},
      "outputs": [],
      "source": [
        "preprocessor.df_img_url_parser(col_name=\"card\")"
      ]
    },
    {
      "cell_type": "code",
      "execution_count": 334,
      "metadata": {},
      "outputs": [],
      "source": [
        "preprocessor.recipe_tag_formatter()"
      ]
    },
    {
      "cell_type": "code",
      "execution_count": null,
      "metadata": {},
      "outputs": [],
      "source": [
        "preprocessor.recipe_details_table_formatter()"
      ]
    },
    {
      "cell_type": "code",
      "execution_count": 336,
      "metadata": {},
      "outputs": [],
      "source": [
        "preprocessor.recipe_ingredients_formatter()"
      ]
    },
    {
      "cell_type": "code",
      "execution_count": 337,
      "metadata": {},
      "outputs": [],
      "source": [
        "preprocessor.recipe_directions_formatter()"
      ]
    },
    {
      "cell_type": "code",
      "execution_count": null,
      "metadata": {},
      "outputs": [],
      "source": [
        "preprocessor.recipe_nutrition_details_formatter()"
      ]
    },
    {
      "cell_type": "code",
      "execution_count": null,
      "metadata": {},
      "outputs": [],
      "source": [
        "preprocessor.df.recipe_nutrition_details_formatted"
      ]
    },
    {
      "cell_type": "code",
      "execution_count": 340,
      "metadata": {},
      "outputs": [
        {
          "name": "stdout",
          "output_type": "stream",
          "text": [
            "Unwanted columns dropped successfully!\n"
          ]
        }
      ],
      "source": [
        "unwanted_cols = [\"card\",\"recipe_tags\", \"recipe_details_table\", \"recipe_ingredients\", \"recipe_directions\", \"recipe_nutrition_details\",\"sub_category\"]\n",
        "preprocessor.clean_df(unwanted_cols)"
      ]
    },
    {
      "cell_type": "code",
      "execution_count": 341,
      "metadata": {},
      "outputs": [
        {
          "data": {
            "text/plain": [
              "Index(['card-href', 'recipe_name', 'image_url_formatted',\n",
              "       'recipe_tags_formatted', 'recipe_details_formatted',\n",
              "       'recipe_ingredients_formatted', 'recipe_directions_formatted',\n",
              "       'recipe_nutrition_details_formatted'],\n",
              "      dtype='object')"
            ]
          },
          "execution_count": 341,
          "metadata": {},
          "output_type": "execute_result"
        }
      ],
      "source": [
        "preprocessor.df.columns"
      ]
    },
    {
      "cell_type": "code",
      "execution_count": 342,
      "metadata": {},
      "outputs": [
        {
          "name": "stdout",
          "output_type": "stream",
          "text": [
            "JSON saved to C:\\Users\\ayhan\\Desktop\\ChefApp\\artifacts\\recipes\\new_data\\chineese\\chineese_appetizers.json\n"
          ]
        }
      ],
      "source": [
        "preprocessor.df_to_json()"
      ]
    },
    {
      "cell_type": "code",
      "execution_count": 205,
      "metadata": {},
      "outputs": [
        {
          "data": {
            "text/html": [
              "<div>\n",
              "<style scoped>\n",
              "    .dataframe tbody tr th:only-of-type {\n",
              "        vertical-align: middle;\n",
              "    }\n",
              "\n",
              "    .dataframe tbody tr th {\n",
              "        vertical-align: top;\n",
              "    }\n",
              "\n",
              "    .dataframe thead th {\n",
              "        text-align: right;\n",
              "    }\n",
              "</style>\n",
              "<table border=\"1\" class=\"dataframe\">\n",
              "  <thead>\n",
              "    <tr style=\"text-align: right;\">\n",
              "      <th></th>\n",
              "      <th>card-href</th>\n",
              "      <th>recipe_name</th>\n",
              "      <th>image_url</th>\n",
              "      <th>recipe_tags_formatted</th>\n",
              "      <th>recipe_details_formatted</th>\n",
              "      <th>recipe_ingredients_formatted</th>\n",
              "      <th>recipe_directions_formatted</th>\n",
              "      <th>recipe_nutrition_details_formatted</th>\n",
              "    </tr>\n",
              "  </thead>\n",
              "  <tbody>\n",
              "    <tr>\n",
              "      <th>1</th>\n",
              "      <td>https://www.allrecipes.com/recipe/160400/tea-l...</td>\n",
              "      <td>Tea Leaf Eggs</td>\n",
              "      <td>https://www.allrecipes.com/thmb/CChB81V-kLe5Dz...</td>\n",
              "      <td>[Recipes, Appetizers and Snacks, chineese_appe...</td>\n",
              "      <td>{'Prep Time': None, 'Cook Time': None, 'Additi...</td>\n",
              "      <td>[1 tablespoon black tea leaves, 2 (3 inch) cin...</td>\n",
              "      <td>[Place the tea, cinnamon, star anise, five-spi...</td>\n",
              "      <td>{'calories': '98', 'fat': '6g', 'carbs': '6g',...</td>\n",
              "    </tr>\n",
              "    <tr>\n",
              "      <th>2</th>\n",
              "      <td>https://www.allrecipes.com/recipe/284414/golde...</td>\n",
              "      <td>Golden Sesame Balls</td>\n",
              "      <td>https://www.allrecipes.com/thmb/odHYwlfyyl2w65...</td>\n",
              "      <td>[Recipes, Cuisine, Asian, Chinese, chineese_ap...</td>\n",
              "      <td>{'Prep Time': None, 'Cook Time': None, 'Additi...</td>\n",
              "      <td>[1 ounce white sugar, ⅓ ounce shortening, 3 ou...</td>\n",
              "      <td>[Combine sugar and shortening in a bowl to mak...</td>\n",
              "      <td>{'calories': '217', 'fat': '15g', 'carbs': '19...</td>\n",
              "    </tr>\n",
              "  </tbody>\n",
              "</table>\n",
              "</div>"
            ],
            "text/plain": [
              "                                           card-href          recipe_name  \\\n",
              "1  https://www.allrecipes.com/recipe/160400/tea-l...        Tea Leaf Eggs   \n",
              "2  https://www.allrecipes.com/recipe/284414/golde...  Golden Sesame Balls   \n",
              "\n",
              "                                           image_url  \\\n",
              "1  https://www.allrecipes.com/thmb/CChB81V-kLe5Dz...   \n",
              "2  https://www.allrecipes.com/thmb/odHYwlfyyl2w65...   \n",
              "\n",
              "                               recipe_tags_formatted  \\\n",
              "1  [Recipes, Appetizers and Snacks, chineese_appe...   \n",
              "2  [Recipes, Cuisine, Asian, Chinese, chineese_ap...   \n",
              "\n",
              "                            recipe_details_formatted  \\\n",
              "1  {'Prep Time': None, 'Cook Time': None, 'Additi...   \n",
              "2  {'Prep Time': None, 'Cook Time': None, 'Additi...   \n",
              "\n",
              "                        recipe_ingredients_formatted  \\\n",
              "1  [1 tablespoon black tea leaves, 2 (3 inch) cin...   \n",
              "2  [1 ounce white sugar, ⅓ ounce shortening, 3 ou...   \n",
              "\n",
              "                         recipe_directions_formatted  \\\n",
              "1  [Place the tea, cinnamon, star anise, five-spi...   \n",
              "2  [Combine sugar and shortening in a bowl to mak...   \n",
              "\n",
              "                  recipe_nutrition_details_formatted  \n",
              "1  {'calories': '98', 'fat': '6g', 'carbs': '6g',...  \n",
              "2  {'calories': '217', 'fat': '15g', 'carbs': '19...  "
            ]
          },
          "execution_count": 205,
          "metadata": {},
          "output_type": "execute_result"
        }
      ],
      "source": [
        "preprocessor.df.head(2)"
      ]
    },
    {
      "cell_type": "code",
      "execution_count": null,
      "metadata": {},
      "outputs": [],
      "source": []
    },
    {
      "cell_type": "code",
      "execution_count": null,
      "metadata": {},
      "outputs": [],
      "source": []
    },
    {
      "cell_type": "code",
      "execution_count": null,
      "metadata": {},
      "outputs": [],
      "source": []
    },
    {
      "cell_type": "code",
      "execution_count": 7,
      "metadata": {
        "id": "GOdhGu4LC-CV"
      },
      "outputs": [],
      "source": [
        "features = df.columns"
      ]
    },
    {
      "cell_type": "code",
      "execution_count": 8,
      "metadata": {
        "colab": {
          "base_uri": "https://localhost:8080/"
        },
        "id": "2NyHJDSxDHlK",
        "outputId": "b15dcff5-7608-48a1-ff1c-035a52bb8165"
      },
      "outputs": [
        {
          "data": {
            "text/plain": [
              "Index(['web-scraper-order', 'web-scraper-start-url', 'sub_category', 'card',\n",
              "       'card-href', 'recipe_name', 'recipe_details_table',\n",
              "       'recipe_ingredients', 'recipe_directions', 'recipe_tags',\n",
              "       'recipe_nutrition_details'],\n",
              "      dtype='object')"
            ]
          },
          "execution_count": 8,
          "metadata": {},
          "output_type": "execute_result"
        }
      ],
      "source": [
        "features = ['sub_category', 'card',\n",
        "       'card-href', 'recipe_name', 'recipe_details_table',\n",
        "       'recipe_ingredients', 'recipe_directions', 'recipe_tags',\n",
        "       'recipe_nutrition_details']"
      ]
    },
    {
      "cell_type": "markdown",
      "metadata": {
        "id": "mQH56ARxFy-l"
      },
      "source": []
    },
    {
      "cell_type": "code",
      "execution_count": 164,
      "metadata": {
        "id": "I-jlkDafDIhJ"
      },
      "outputs": [],
      "source": [
        "#sub_tag = df.loc[0, \"sub_category\"]\n",
        "sub_tag\n",
        "df[\"sub_category\"] = sub_tag"
      ]
    },
    {
      "cell_type": "code",
      "execution_count": null,
      "metadata": {
        "id": "do46WNsOEVo4"
      },
      "outputs": [],
      "source": [
        "df[\"recipe_tags\"][1:-1].map(lambda tags: eval(tags))"
      ]
    },
    {
      "cell_type": "code",
      "execution_count": 26,
      "metadata": {
        "colab": {
          "base_uri": "https://localhost:8080/"
        },
        "id": "phJqcwqYEhwY",
        "outputId": "a5e63277-bf6d-4db6-834c-db4ca303ad58"
      },
      "outputs": [
        {
          "data": {
            "text/plain": [
              "['Recipes', 'Everyday Cooking', 'Vegan']"
            ]
          },
          "execution_count": 26,
          "metadata": {},
          "output_type": "execute_result"
        }
      ],
      "source": [
        "[kv[\"recipe_tags\"]  for kv   in eval(df[\"recipe_tags\"][1])]"
      ]
    },
    {
      "cell_type": "code",
      "execution_count": 31,
      "metadata": {
        "id": "ur5O9r5xGjrq"
      },
      "outputs": [],
      "source": [
        "df.drop(df[df[\"recipe_tags\"].isnull()].index, inplace=True)\n"
      ]
    },
    {
      "cell_type": "code",
      "execution_count": 34,
      "metadata": {
        "id": "oEZvbW6QE0v5"
      },
      "outputs": [],
      "source": [
        "\n",
        "df[\"recipe_tags_formatted\"] = df[\"recipe_tags\"].apply(lambda tags: [kv[\"recipe_tags\"] for kv in eval(tags)])\n"
      ]
    },
    {
      "cell_type": "code",
      "execution_count": 66,
      "metadata": {
        "id": "H_3zb74jH4ob"
      },
      "outputs": [],
      "source": [
        "df.drop(df[~df[\"recipe_details_table\"].str.contains(\"Time\")].index, inplace=True)"
      ]
    },
    {
      "cell_type": "code",
      "execution_count": 37,
      "metadata": {
        "id": "NT8ZavV2HMZN"
      },
      "outputs": [],
      "source": [
        "df[\"recipe_details_formatted\"] = df[\"recipe_details_table\"].apply(lambda tags: [kv[\"recipe_details_table\"] for kv in eval(tags)])"
      ]
    },
    {
      "cell_type": "code",
      "execution_count": 71,
      "metadata": {
        "id": "isDcSk3rH4ey"
      },
      "outputs": [],
      "source": [
        "df.drop(df[df[\"recipe_ingredients\"].apply(lambda element: len(element))<=2].index, inplace=True)"
      ]
    },
    {
      "cell_type": "code",
      "execution_count": 74,
      "metadata": {
        "id": "Wr3MkLh4H4hw"
      },
      "outputs": [],
      "source": [
        "df[\"recipe_ingredients_formatted\"] = df[\"recipe_ingredients\"].apply(lambda tags: [kv[\"recipe_ingredients\"] for kv in eval(tags)])\n"
      ]
    },
    {
      "cell_type": "code",
      "execution_count": 91,
      "metadata": {
        "id": "HQZqedqxPeQy"
      },
      "outputs": [],
      "source": [
        "from typing import List\n",
        "def recipe_ingredients_formatter(ingredients:List)->List:\n",
        "  \"\"\"assumes the list has 1 element, if it contains multiple elements, then just ' '.join()  them \"\"\"\n",
        "  ingredient_str = ingredients[0]\n",
        "  ingredients_list = ingredient_str.split('\\n')\n",
        "\n",
        "  # Remove empty strings and strip any leading/trailing whitespace\n",
        "  ingredients_list = [ingredient.strip() for ingredient in ingredients_list if ingredient.strip()]\n",
        "  return ingredients_list\n"
      ]
    },
    {
      "cell_type": "code",
      "execution_count": 92,
      "metadata": {
        "colab": {
          "base_uri": "https://localhost:8080/"
        },
        "id": "Riey2KHWQUp5",
        "outputId": "1ae47b14-32fa-4943-9c7f-da53d4f7fabb"
      },
      "outputs": [
        {
          "data": {
            "text/plain": [
              "['2 tablespoons vegetable oil',\n",
              " '½ cup diced sweet onion',\n",
              " '1 tablespoon grated ginger root',\n",
              " '1 clove garlic, minced',\n",
              " '1 ½ cups fresh pineapple chunks',\n",
              " '½  diced red bell pepper',\n",
              " '⅓ cup thawed frozen peas',\n",
              " '2 cups cold, cooked white rice',\n",
              " '2 tablespoons low-sodium soy sauce, or to taste',\n",
              " '1 teaspoon sesame oil',\n",
              " '2 tablespoons sliced green onion',\n",
              " '1 teaspoon toasted sesame seeds']"
            ]
          },
          "execution_count": 92,
          "metadata": {},
          "output_type": "execute_result"
        }
      ],
      "source": [
        "recipe_ingredients_formatter(df[\"recipe_ingredients_formatted\"][7])"
      ]
    },
    {
      "cell_type": "code",
      "execution_count": 97,
      "metadata": {
        "id": "a5tg7TIFQUlf"
      },
      "outputs": [],
      "source": [
        "#formatting the whole column\n",
        "df[\"recipe_ingredients_formatted\"] = df[\"recipe_ingredients_formatted\"].apply(lambda ingredient_list: recipe_ingredients_formatter(ingredient_list))\n"
      ]
    },
    {
      "cell_type": "code",
      "execution_count": 100,
      "metadata": {
        "id": "nEC4qNWbR1wD"
      },
      "outputs": [],
      "source": [
        "df.drop(df[df[\"recipe_directions\"].apply(lambda element: len(element))<=2].index, inplace=True)"
      ]
    },
    {
      "cell_type": "code",
      "execution_count": 102,
      "metadata": {
        "id": "yyH92rJPQyTO"
      },
      "outputs": [],
      "source": [
        "df[\"recipe_directions_formatted\"] = df[\"recipe_directions\"].apply(lambda tags: [kv[\"recipe_directions\"] for kv in eval(tags)])\n"
      ]
    },
    {
      "cell_type": "code",
      "execution_count": 108,
      "metadata": {
        "colab": {
          "base_uri": "https://localhost:8080/"
        },
        "id": "BUURLxrDSSzg",
        "outputId": "ec8c3130-947e-4fdd-ee3b-a3d9bd56c0fc"
      },
      "outputs": [
        {
          "data": {
            "text/plain": [
              "(6,\n",
              " ['Combine frozen spinach and water in a 1-quart microwave-safe casserole dish. Cover and microwave on high for 5 minutes, stirring halfway through the cooking time. Break up any clumps with a fork and cook for 1 more minute. Transfer to a colander to drain. When cool enough to handle, squeeze small handfuls of spinach to release remaining water and place spinach in a large mixing bowl.',\n",
              "  'Add Beyond Beef, nutritional yeast, bread crumbs, tomato paste, minced garlic, oregano, basil, onion powder, salt, and pepper to the spinach. Mix with your hands until all ingredients are thoroughly combined. Roll into 1 1/4-inch diameter meatballs.',\n",
              "  'Preheat oven to 400 degrees F (200 degrees C). Line a large rimmed baking sheet with parchment paper.',\n",
              "  'Heat 1 tablespoon olive oil over medium heat in a large Dutch oven. Working in batches, add about 12 meatballs and cook, turning often and being careful not to burn, until browned on all sides, about 5 to 7 minutes. Transfer meatballs to the prepared baking sheet, and repeat with remaining batches.',\n",
              "  'Bake in the preheated oven until heated through, 30 to 35 minutes. An instant-read thermometer inserted into the center should read at least 165 degrees F (74 degrees C).',\n",
              "  'To cook these in marinara sauce, brown meatballs as instructed and transfer to a plate. Add two 24-ounce jars of your favorite marinara sauce to the browned bits in the Dutch oven. Bring to a boil over medium-high heat. Add the browned meatballs, cover, reduce heat to low, and simmer until meatballs are cooked through, 35 to 45 minutes.'])"
            ]
          },
          "execution_count": 108,
          "metadata": {},
          "output_type": "execute_result"
        }
      ],
      "source": [
        "len(df[\"recipe_directions_formatted\"][2]), df[\"recipe_directions_formatted\"][2]"
      ]
    },
    {
      "cell_type": "code",
      "execution_count": 110,
      "metadata": {
        "id": "EhVmoAVKRj_n"
      },
      "outputs": [],
      "source": [
        "df.drop(df[df[\"recipe_nutrition_details\"].apply(lambda element: len(element))<=2].index, inplace=True)"
      ]
    },
    {
      "cell_type": "code",
      "execution_count": 112,
      "metadata": {
        "id": "QprBXXWERj9_"
      },
      "outputs": [],
      "source": [
        "df[\"recipe_nutrition_details_formatted\"] = df[\"recipe_nutrition_details\"].apply(lambda tags: [kv[\"recipe_nutrition_details\"] for kv in eval(tags)])\n"
      ]
    },
    {
      "cell_type": "code",
      "execution_count": 135,
      "metadata": {
        "colab": {
          "base_uri": "https://localhost:8080/"
        },
        "id": "Qd-3J3y1VsBZ",
        "outputId": "acb44f46-b580-4336-d598-d3181f8cd4a9"
      },
      "outputs": [
        {
          "data": {
            "text/plain": [
              "['350', 'Calories', '7g', 'Fat', '57g', 'Carbs', '16g', 'Protein']"
            ]
          },
          "execution_count": 135,
          "metadata": {},
          "output_type": "execute_result"
        }
      ],
      "source": [
        "df[\"recipe_nutrition_details_formatted\"].iloc[0]"
      ]
    },
    {
      "cell_type": "code",
      "execution_count": 153,
      "metadata": {
        "id": "BHl_rBAxRj8M"
      },
      "outputs": [],
      "source": [
        "def recipe_nutrition_formatter(nutrition_details:List)->List:\n",
        "  nutrition_info = {\n",
        "      \"calories\":0,\n",
        "      \"fat\" : 0,\n",
        "      \"carbs\":0,\n",
        "      \"protein\":0}\n",
        "\n",
        "  for index, item in enumerate(nutrition_details):\n",
        "    if item.lower() in nutrition_info:\n",
        "      nutrition_info[item.lower()] = nutrition_details[index-1]\n",
        "\n",
        "  return  nutrition_info"
      ]
    },
    {
      "cell_type": "code",
      "execution_count": 154,
      "metadata": {
        "colab": {
          "base_uri": "https://localhost:8080/"
        },
        "id": "KZjNizYcWmZD",
        "outputId": "725ddf04-6112-446e-85d7-b37b8690219f"
      },
      "outputs": [
        {
          "data": {
            "text/plain": [
              "{'calories': '350', 'fat': '7g', 'carbs': '57g', 'protein': '16g'}"
            ]
          },
          "execution_count": 154,
          "metadata": {},
          "output_type": "execute_result"
        }
      ],
      "source": [
        "recipe_nutrition_formatter(df[\"recipe_nutrition_details_formatted\"].iloc[0])"
      ]
    },
    {
      "cell_type": "code",
      "execution_count": null,
      "metadata": {
        "id": "ry5yIAU1Rj0x"
      },
      "outputs": [],
      "source": [
        "df[\"recipe_nutrition_details_formatted\"] = df[\"recipe_nutrition_details_formatted\"].apply( lambda element:  recipe_nutrition_formatter(element))\n",
        "\n"
      ]
    },
    {
      "cell_type": "code",
      "execution_count": 171,
      "metadata": {
        "colab": {
          "base_uri": "https://localhost:8080/",
          "height": 434
        },
        "id": "Rs_E6YzPRjwx",
        "outputId": "a25eb7d2-d67e-4fed-f60d-77b26915b27b"
      },
      "outputs": [
        {
          "data": {
            "text/html": [
              "\n",
              "  <div id=\"df-237462d8-7f14-47f0-be68-b33b0d1fa0ba\" class=\"colab-df-container\">\n",
              "    <div>\n",
              "<style scoped>\n",
              "    .dataframe tbody tr th:only-of-type {\n",
              "        vertical-align: middle;\n",
              "    }\n",
              "\n",
              "    .dataframe tbody tr th {\n",
              "        vertical-align: top;\n",
              "    }\n",
              "\n",
              "    .dataframe thead th {\n",
              "        text-align: right;\n",
              "    }\n",
              "</style>\n",
              "<table border=\"1\" class=\"dataframe\">\n",
              "  <thead>\n",
              "    <tr style=\"text-align: right;\">\n",
              "      <th></th>\n",
              "      <th>sub_category</th>\n",
              "      <th>card</th>\n",
              "      <th>card-href</th>\n",
              "      <th>recipe_name</th>\n",
              "      <th>recipe_details_table</th>\n",
              "      <th>recipe_ingredients</th>\n",
              "      <th>recipe_directions</th>\n",
              "      <th>recipe_tags</th>\n",
              "      <th>recipe_nutrition_details</th>\n",
              "      <th>recipe_tags_formatted</th>\n",
              "      <th>recipe_details_formatted</th>\n",
              "      <th>recipe_ingredients_formatted</th>\n",
              "      <th>recipe_directions_formatted</th>\n",
              "      <th>recipe_nutrition_details_formatted</th>\n",
              "    </tr>\n",
              "  </thead>\n",
              "  <tbody>\n",
              "    <tr>\n",
              "      <th>1</th>\n",
              "      <td>Vegan Main Dishes</td>\n",
              "      <td>&lt;img\\nsrc=\"https://www.allrecipes.com/thmb/kFt...</td>\n",
              "      <td>https://www.allrecipes.com/recipe/245424/mujad...</td>\n",
              "      <td>Mujadarra (Lentils with Rice)</td>\n",
              "      <td>[{\"recipe_details_table\":\"Prep Time:\\n15 mins\\...</td>\n",
              "      <td>[{\"recipe_ingredients\":\"14 ounces dry brown le...</td>\n",
              "      <td>[{\"recipe_directions\":\"Fill a large pot with l...</td>\n",
              "      <td>[{\"recipe_tags\":\"Recipes\"},{\"recipe_tags\":\"Eve...</td>\n",
              "      <td>[{\"recipe_nutrition_details\":\"350\\nCalories\\n\\...</td>\n",
              "      <td>[Recipes, Everyday Cooking, Vegan, Vegan Main ...</td>\n",
              "      <td>[Prep Time:\\n15 mins\\n\\n\\nCook Time:\\n30 mins\\...</td>\n",
              "      <td>[14 ounces dry brown lentils, 2  carrots, grat...</td>\n",
              "      <td>[Fill a large pot with lightly salted water; a...</td>\n",
              "      <td>{'calories': '350', 'fat': '7g', 'carbs': '57g...</td>\n",
              "    </tr>\n",
              "    <tr>\n",
              "      <th>2</th>\n",
              "      <td>Vegan Main Dishes</td>\n",
              "      <td>&lt;img\\nsrc=\"https://www.allrecipes.com/thmb/W9m...</td>\n",
              "      <td>https://www.allrecipes.com/recipe/278267/beyon...</td>\n",
              "      <td>Beyond Beef Vegan Meatballs</td>\n",
              "      <td>[{\"recipe_details_table\":\"Prep Time:\\n25 mins\\...</td>\n",
              "      <td>[{\"recipe_ingredients\":\"1 (10 ounce) package f...</td>\n",
              "      <td>[{\"recipe_directions\":\"Combine frozen spinach ...</td>\n",
              "      <td>[{\"recipe_tags\":\"Recipes\"},{\"recipe_tags\":\"Mai...</td>\n",
              "      <td>[{\"recipe_nutrition_details\":\"411\\nCalories\\n\\...</td>\n",
              "      <td>[Recipes, Main Dishes, Meatball Recipes, Vegan...</td>\n",
              "      <td>[Prep Time:\\n25 mins\\n\\n\\nCook Time:\\n 1 hr\\n\\...</td>\n",
              "      <td>[1 (10 ounce) package frozen chopped spinach, ...</td>\n",
              "      <td>[Combine frozen spinach and water in a 1-quart...</td>\n",
              "      <td>{'calories': '411', 'fat': '26g', 'carbs': '19...</td>\n",
              "    </tr>\n",
              "    <tr>\n",
              "      <th>3</th>\n",
              "      <td>Vegan Main Dishes</td>\n",
              "      <td>&lt;img\\nsrc=\"https://www.allrecipes.com/thmb/8hE...</td>\n",
              "      <td>https://www.allrecipes.com/recipe/263128/jicam...</td>\n",
              "      <td>Jicama Tortillas</td>\n",
              "      <td>[{\"recipe_details_table\":\"Prep Time:\\n15 mins\\...</td>\n",
              "      <td>[{\"recipe_ingredients\":\"1 large jicama\"}]</td>\n",
              "      <td>[{\"recipe_directions\":\"Wash jicama thoroughly ...</td>\n",
              "      <td>[{\"recipe_tags\":\"Recipes\"},{\"recipe_tags\":\"Cui...</td>\n",
              "      <td>[{\"recipe_nutrition_details\":\"25\\nCalories\\n\\n...</td>\n",
              "      <td>[Recipes, Cuisine, Latin American, Mexican, Ve...</td>\n",
              "      <td>[Prep Time:\\n15 mins\\n\\n\\nTotal Time:\\n15 mins...</td>\n",
              "      <td>[1 large jicama]</td>\n",
              "      <td>[Wash jicama thoroughly with cool water and re...</td>\n",
              "      <td>{'calories': '25', 'fat': '0g', 'carbs': '6g',...</td>\n",
              "    </tr>\n",
              "    <tr>\n",
              "      <th>4</th>\n",
              "      <td>Vegan Main Dishes</td>\n",
              "      <td>&lt;img\\nsrc=\"https://www.allrecipes.com/thmb/xvp...</td>\n",
              "      <td>https://www.allrecipes.com/recipe/232210/cousc...</td>\n",
              "      <td>Couscous with Olives and Sun-Dried Tomato</td>\n",
              "      <td>[{\"recipe_details_table\":\"Prep Time:\\n20 mins\\...</td>\n",
              "      <td>[{\"recipe_ingredients\":\"1 ¼ cups vegetable bro...</td>\n",
              "      <td>[{\"recipe_directions\":\"Bring 1 1/4 cup vegetab...</td>\n",
              "      <td>[{\"recipe_tags\":\"Cuisine\"},{\"recipe_tags\":\"Afr...</td>\n",
              "      <td>[{\"recipe_nutrition_details\":\"528\\nCalories\\n\\...</td>\n",
              "      <td>[Cuisine, African, North African, Egyptian, Ve...</td>\n",
              "      <td>[Prep Time:\\n20 mins\\n\\n\\nCook Time:\\n30 mins\\...</td>\n",
              "      <td>[1 ¼ cups vegetable broth, 1 ¼ cups water, 2 c...</td>\n",
              "      <td>[Bring 1 1/4 cup vegetable broth and water to ...</td>\n",
              "      <td>{'calories': '528', 'fat': '29g', 'carbs': '56...</td>\n",
              "    </tr>\n",
              "    <tr>\n",
              "      <th>5</th>\n",
              "      <td>Vegan Main Dishes</td>\n",
              "      <td>&lt;img\\nsrc=\"https://www.allrecipes.com/thmb/0ZE...</td>\n",
              "      <td>https://www.allrecipes.com/recipe/25331/americ...</td>\n",
              "      <td>American-Style Red Beans and Rice</td>\n",
              "      <td>[{\"recipe_details_table\":\"Prep Time:\\n5 mins\\n...</td>\n",
              "      <td>[{\"recipe_ingredients\":\"1 tablespoon olive oil...</td>\n",
              "      <td>[{\"recipe_directions\":\"Combine olive oil, kidn...</td>\n",
              "      <td>[{\"recipe_tags\":\"Recipes\"},{\"recipe_tags\":\"Mai...</td>\n",
              "      <td>[{\"recipe_nutrition_details\":\"511\\nCalories\\n\\...</td>\n",
              "      <td>[Recipes, Main Dishes, Rice, Beans and Rice Re...</td>\n",
              "      <td>[Prep Time:\\n5 mins\\n\\n\\nCook Time:\\n30 mins\\n...</td>\n",
              "      <td>[1 tablespoon olive oil, 1 (15 ounce) can kidn...</td>\n",
              "      <td>[Combine olive oil, kidney beans, tomato sauce...</td>\n",
              "      <td>{'calories': '511', 'fat': '5g', 'carbs': '101...</td>\n",
              "    </tr>\n",
              "  </tbody>\n",
              "</table>\n",
              "</div>\n",
              "    <div class=\"colab-df-buttons\">\n",
              "\n",
              "  <div class=\"colab-df-container\">\n",
              "    <button class=\"colab-df-convert\" onclick=\"convertToInteractive('df-237462d8-7f14-47f0-be68-b33b0d1fa0ba')\"\n",
              "            title=\"Convert this dataframe to an interactive table.\"\n",
              "            style=\"display:none;\">\n",
              "\n",
              "  <svg xmlns=\"http://www.w3.org/2000/svg\" height=\"24px\" viewBox=\"0 -960 960 960\">\n",
              "    <path d=\"M120-120v-720h720v720H120Zm60-500h600v-160H180v160Zm220 220h160v-160H400v160Zm0 220h160v-160H400v160ZM180-400h160v-160H180v160Zm440 0h160v-160H620v160ZM180-180h160v-160H180v160Zm440 0h160v-160H620v160Z\"/>\n",
              "  </svg>\n",
              "    </button>\n",
              "\n",
              "  <style>\n",
              "    .colab-df-container {\n",
              "      display:flex;\n",
              "      gap: 12px;\n",
              "    }\n",
              "\n",
              "    .colab-df-convert {\n",
              "      background-color: #E8F0FE;\n",
              "      border: none;\n",
              "      border-radius: 50%;\n",
              "      cursor: pointer;\n",
              "      display: none;\n",
              "      fill: #1967D2;\n",
              "      height: 32px;\n",
              "      padding: 0 0 0 0;\n",
              "      width: 32px;\n",
              "    }\n",
              "\n",
              "    .colab-df-convert:hover {\n",
              "      background-color: #E2EBFA;\n",
              "      box-shadow: 0px 1px 2px rgba(60, 64, 67, 0.3), 0px 1px 3px 1px rgba(60, 64, 67, 0.15);\n",
              "      fill: #174EA6;\n",
              "    }\n",
              "\n",
              "    .colab-df-buttons div {\n",
              "      margin-bottom: 4px;\n",
              "    }\n",
              "\n",
              "    [theme=dark] .colab-df-convert {\n",
              "      background-color: #3B4455;\n",
              "      fill: #D2E3FC;\n",
              "    }\n",
              "\n",
              "    [theme=dark] .colab-df-convert:hover {\n",
              "      background-color: #434B5C;\n",
              "      box-shadow: 0px 1px 3px 1px rgba(0, 0, 0, 0.15);\n",
              "      filter: drop-shadow(0px 1px 2px rgba(0, 0, 0, 0.3));\n",
              "      fill: #FFFFFF;\n",
              "    }\n",
              "  </style>\n",
              "\n",
              "    <script>\n",
              "      const buttonEl =\n",
              "        document.querySelector('#df-237462d8-7f14-47f0-be68-b33b0d1fa0ba button.colab-df-convert');\n",
              "      buttonEl.style.display =\n",
              "        google.colab.kernel.accessAllowed ? 'block' : 'none';\n",
              "\n",
              "      async function convertToInteractive(key) {\n",
              "        const element = document.querySelector('#df-237462d8-7f14-47f0-be68-b33b0d1fa0ba');\n",
              "        const dataTable =\n",
              "          await google.colab.kernel.invokeFunction('convertToInteractive',\n",
              "                                                    [key], {});\n",
              "        if (!dataTable) return;\n",
              "\n",
              "        const docLinkHtml = 'Like what you see? Visit the ' +\n",
              "          '<a target=\"_blank\" href=https://colab.research.google.com/notebooks/data_table.ipynb>data table notebook</a>'\n",
              "          + ' to learn more about interactive tables.';\n",
              "        element.innerHTML = '';\n",
              "        dataTable['output_type'] = 'display_data';\n",
              "        await google.colab.output.renderOutput(dataTable, element);\n",
              "        const docLink = document.createElement('div');\n",
              "        docLink.innerHTML = docLinkHtml;\n",
              "        element.appendChild(docLink);\n",
              "      }\n",
              "    </script>\n",
              "  </div>\n",
              "\n",
              "\n",
              "<div id=\"df-f5e55315-3962-429c-9e4d-6d2041d34b0b\">\n",
              "  <button class=\"colab-df-quickchart\" onclick=\"quickchart('df-f5e55315-3962-429c-9e4d-6d2041d34b0b')\"\n",
              "            title=\"Suggest charts\"\n",
              "            style=\"display:none;\">\n",
              "\n",
              "<svg xmlns=\"http://www.w3.org/2000/svg\" height=\"24px\"viewBox=\"0 0 24 24\"\n",
              "     width=\"24px\">\n",
              "    <g>\n",
              "        <path d=\"M19 3H5c-1.1 0-2 .9-2 2v14c0 1.1.9 2 2 2h14c1.1 0 2-.9 2-2V5c0-1.1-.9-2-2-2zM9 17H7v-7h2v7zm4 0h-2V7h2v10zm4 0h-2v-4h2v4z\"/>\n",
              "    </g>\n",
              "</svg>\n",
              "  </button>\n",
              "\n",
              "<style>\n",
              "  .colab-df-quickchart {\n",
              "      --bg-color: #E8F0FE;\n",
              "      --fill-color: #1967D2;\n",
              "      --hover-bg-color: #E2EBFA;\n",
              "      --hover-fill-color: #174EA6;\n",
              "      --disabled-fill-color: #AAA;\n",
              "      --disabled-bg-color: #DDD;\n",
              "  }\n",
              "\n",
              "  [theme=dark] .colab-df-quickchart {\n",
              "      --bg-color: #3B4455;\n",
              "      --fill-color: #D2E3FC;\n",
              "      --hover-bg-color: #434B5C;\n",
              "      --hover-fill-color: #FFFFFF;\n",
              "      --disabled-bg-color: #3B4455;\n",
              "      --disabled-fill-color: #666;\n",
              "  }\n",
              "\n",
              "  .colab-df-quickchart {\n",
              "    background-color: var(--bg-color);\n",
              "    border: none;\n",
              "    border-radius: 50%;\n",
              "    cursor: pointer;\n",
              "    display: none;\n",
              "    fill: var(--fill-color);\n",
              "    height: 32px;\n",
              "    padding: 0;\n",
              "    width: 32px;\n",
              "  }\n",
              "\n",
              "  .colab-df-quickchart:hover {\n",
              "    background-color: var(--hover-bg-color);\n",
              "    box-shadow: 0 1px 2px rgba(60, 64, 67, 0.3), 0 1px 3px 1px rgba(60, 64, 67, 0.15);\n",
              "    fill: var(--button-hover-fill-color);\n",
              "  }\n",
              "\n",
              "  .colab-df-quickchart-complete:disabled,\n",
              "  .colab-df-quickchart-complete:disabled:hover {\n",
              "    background-color: var(--disabled-bg-color);\n",
              "    fill: var(--disabled-fill-color);\n",
              "    box-shadow: none;\n",
              "  }\n",
              "\n",
              "  .colab-df-spinner {\n",
              "    border: 2px solid var(--fill-color);\n",
              "    border-color: transparent;\n",
              "    border-bottom-color: var(--fill-color);\n",
              "    animation:\n",
              "      spin 1s steps(1) infinite;\n",
              "  }\n",
              "\n",
              "  @keyframes spin {\n",
              "    0% {\n",
              "      border-color: transparent;\n",
              "      border-bottom-color: var(--fill-color);\n",
              "      border-left-color: var(--fill-color);\n",
              "    }\n",
              "    20% {\n",
              "      border-color: transparent;\n",
              "      border-left-color: var(--fill-color);\n",
              "      border-top-color: var(--fill-color);\n",
              "    }\n",
              "    30% {\n",
              "      border-color: transparent;\n",
              "      border-left-color: var(--fill-color);\n",
              "      border-top-color: var(--fill-color);\n",
              "      border-right-color: var(--fill-color);\n",
              "    }\n",
              "    40% {\n",
              "      border-color: transparent;\n",
              "      border-right-color: var(--fill-color);\n",
              "      border-top-color: var(--fill-color);\n",
              "    }\n",
              "    60% {\n",
              "      border-color: transparent;\n",
              "      border-right-color: var(--fill-color);\n",
              "    }\n",
              "    80% {\n",
              "      border-color: transparent;\n",
              "      border-right-color: var(--fill-color);\n",
              "      border-bottom-color: var(--fill-color);\n",
              "    }\n",
              "    90% {\n",
              "      border-color: transparent;\n",
              "      border-bottom-color: var(--fill-color);\n",
              "    }\n",
              "  }\n",
              "</style>\n",
              "\n",
              "  <script>\n",
              "    async function quickchart(key) {\n",
              "      const quickchartButtonEl =\n",
              "        document.querySelector('#' + key + ' button');\n",
              "      quickchartButtonEl.disabled = true;  // To prevent multiple clicks.\n",
              "      quickchartButtonEl.classList.add('colab-df-spinner');\n",
              "      try {\n",
              "        const charts = await google.colab.kernel.invokeFunction(\n",
              "            'suggestCharts', [key], {});\n",
              "      } catch (error) {\n",
              "        console.error('Error during call to suggestCharts:', error);\n",
              "      }\n",
              "      quickchartButtonEl.classList.remove('colab-df-spinner');\n",
              "      quickchartButtonEl.classList.add('colab-df-quickchart-complete');\n",
              "    }\n",
              "    (() => {\n",
              "      let quickchartButtonEl =\n",
              "        document.querySelector('#df-f5e55315-3962-429c-9e4d-6d2041d34b0b button');\n",
              "      quickchartButtonEl.style.display =\n",
              "        google.colab.kernel.accessAllowed ? 'block' : 'none';\n",
              "    })();\n",
              "  </script>\n",
              "</div>\n",
              "    </div>\n",
              "  </div>\n"
            ],
            "text/plain": [
              "        sub_category                                               card  \\\n",
              "1  Vegan Main Dishes  <img\\nsrc=\"https://www.allrecipes.com/thmb/kFt...   \n",
              "2  Vegan Main Dishes  <img\\nsrc=\"https://www.allrecipes.com/thmb/W9m...   \n",
              "3  Vegan Main Dishes  <img\\nsrc=\"https://www.allrecipes.com/thmb/8hE...   \n",
              "4  Vegan Main Dishes  <img\\nsrc=\"https://www.allrecipes.com/thmb/xvp...   \n",
              "5  Vegan Main Dishes  <img\\nsrc=\"https://www.allrecipes.com/thmb/0ZE...   \n",
              "\n",
              "                                           card-href  \\\n",
              "1  https://www.allrecipes.com/recipe/245424/mujad...   \n",
              "2  https://www.allrecipes.com/recipe/278267/beyon...   \n",
              "3  https://www.allrecipes.com/recipe/263128/jicam...   \n",
              "4  https://www.allrecipes.com/recipe/232210/cousc...   \n",
              "5  https://www.allrecipes.com/recipe/25331/americ...   \n",
              "\n",
              "                                 recipe_name  \\\n",
              "1              Mujadarra (Lentils with Rice)   \n",
              "2                Beyond Beef Vegan Meatballs   \n",
              "3                           Jicama Tortillas   \n",
              "4  Couscous with Olives and Sun-Dried Tomato   \n",
              "5          American-Style Red Beans and Rice   \n",
              "\n",
              "                                recipe_details_table  \\\n",
              "1  [{\"recipe_details_table\":\"Prep Time:\\n15 mins\\...   \n",
              "2  [{\"recipe_details_table\":\"Prep Time:\\n25 mins\\...   \n",
              "3  [{\"recipe_details_table\":\"Prep Time:\\n15 mins\\...   \n",
              "4  [{\"recipe_details_table\":\"Prep Time:\\n20 mins\\...   \n",
              "5  [{\"recipe_details_table\":\"Prep Time:\\n5 mins\\n...   \n",
              "\n",
              "                                  recipe_ingredients  \\\n",
              "1  [{\"recipe_ingredients\":\"14 ounces dry brown le...   \n",
              "2  [{\"recipe_ingredients\":\"1 (10 ounce) package f...   \n",
              "3          [{\"recipe_ingredients\":\"1 large jicama\"}]   \n",
              "4  [{\"recipe_ingredients\":\"1 ¼ cups vegetable bro...   \n",
              "5  [{\"recipe_ingredients\":\"1 tablespoon olive oil...   \n",
              "\n",
              "                                   recipe_directions  \\\n",
              "1  [{\"recipe_directions\":\"Fill a large pot with l...   \n",
              "2  [{\"recipe_directions\":\"Combine frozen spinach ...   \n",
              "3  [{\"recipe_directions\":\"Wash jicama thoroughly ...   \n",
              "4  [{\"recipe_directions\":\"Bring 1 1/4 cup vegetab...   \n",
              "5  [{\"recipe_directions\":\"Combine olive oil, kidn...   \n",
              "\n",
              "                                         recipe_tags  \\\n",
              "1  [{\"recipe_tags\":\"Recipes\"},{\"recipe_tags\":\"Eve...   \n",
              "2  [{\"recipe_tags\":\"Recipes\"},{\"recipe_tags\":\"Mai...   \n",
              "3  [{\"recipe_tags\":\"Recipes\"},{\"recipe_tags\":\"Cui...   \n",
              "4  [{\"recipe_tags\":\"Cuisine\"},{\"recipe_tags\":\"Afr...   \n",
              "5  [{\"recipe_tags\":\"Recipes\"},{\"recipe_tags\":\"Mai...   \n",
              "\n",
              "                            recipe_nutrition_details  \\\n",
              "1  [{\"recipe_nutrition_details\":\"350\\nCalories\\n\\...   \n",
              "2  [{\"recipe_nutrition_details\":\"411\\nCalories\\n\\...   \n",
              "3  [{\"recipe_nutrition_details\":\"25\\nCalories\\n\\n...   \n",
              "4  [{\"recipe_nutrition_details\":\"528\\nCalories\\n\\...   \n",
              "5  [{\"recipe_nutrition_details\":\"511\\nCalories\\n\\...   \n",
              "\n",
              "                               recipe_tags_formatted  \\\n",
              "1  [Recipes, Everyday Cooking, Vegan, Vegan Main ...   \n",
              "2  [Recipes, Main Dishes, Meatball Recipes, Vegan...   \n",
              "3  [Recipes, Cuisine, Latin American, Mexican, Ve...   \n",
              "4  [Cuisine, African, North African, Egyptian, Ve...   \n",
              "5  [Recipes, Main Dishes, Rice, Beans and Rice Re...   \n",
              "\n",
              "                            recipe_details_formatted  \\\n",
              "1  [Prep Time:\\n15 mins\\n\\n\\nCook Time:\\n30 mins\\...   \n",
              "2  [Prep Time:\\n25 mins\\n\\n\\nCook Time:\\n 1 hr\\n\\...   \n",
              "3  [Prep Time:\\n15 mins\\n\\n\\nTotal Time:\\n15 mins...   \n",
              "4  [Prep Time:\\n20 mins\\n\\n\\nCook Time:\\n30 mins\\...   \n",
              "5  [Prep Time:\\n5 mins\\n\\n\\nCook Time:\\n30 mins\\n...   \n",
              "\n",
              "                        recipe_ingredients_formatted  \\\n",
              "1  [14 ounces dry brown lentils, 2  carrots, grat...   \n",
              "2  [1 (10 ounce) package frozen chopped spinach, ...   \n",
              "3                                   [1 large jicama]   \n",
              "4  [1 ¼ cups vegetable broth, 1 ¼ cups water, 2 c...   \n",
              "5  [1 tablespoon olive oil, 1 (15 ounce) can kidn...   \n",
              "\n",
              "                         recipe_directions_formatted  \\\n",
              "1  [Fill a large pot with lightly salted water; a...   \n",
              "2  [Combine frozen spinach and water in a 1-quart...   \n",
              "3  [Wash jicama thoroughly with cool water and re...   \n",
              "4  [Bring 1 1/4 cup vegetable broth and water to ...   \n",
              "5  [Combine olive oil, kidney beans, tomato sauce...   \n",
              "\n",
              "                  recipe_nutrition_details_formatted  \n",
              "1  {'calories': '350', 'fat': '7g', 'carbs': '57g...  \n",
              "2  {'calories': '411', 'fat': '26g', 'carbs': '19...  \n",
              "3  {'calories': '25', 'fat': '0g', 'carbs': '6g',...  \n",
              "4  {'calories': '528', 'fat': '29g', 'carbs': '56...  \n",
              "5  {'calories': '511', 'fat': '5g', 'carbs': '101...  "
            ]
          },
          "execution_count": 171,
          "metadata": {},
          "output_type": "execute_result"
        }
      ],
      "source": [
        "df.head(5).iloc[:,2:]"
      ]
    },
    {
      "cell_type": "code",
      "execution_count": null,
      "metadata": {
        "id": "Yn06aARNRjsy"
      },
      "outputs": [],
      "source": [
        "df[\"recipe_tags_formatted\"].iloc[1:].apply(lambda element: element.append(\"Vegan Main Dishes\"))"
      ]
    },
    {
      "cell_type": "code",
      "execution_count": null,
      "metadata": {
        "id": "_21vdCZSaotY"
      },
      "outputs": [],
      "source": []
    },
    {
      "cell_type": "code",
      "execution_count": null,
      "metadata": {
        "id": "ElQwnEqUaorP"
      },
      "outputs": [],
      "source": []
    },
    {
      "cell_type": "code",
      "execution_count": null,
      "metadata": {
        "id": "nBCUPWycaoop"
      },
      "outputs": [],
      "source": []
    },
    {
      "cell_type": "markdown",
      "metadata": {
        "id": "JvSGK3tQHgz5"
      },
      "source": []
    }
  ],
  "metadata": {
    "colab": {
      "provenance": []
    },
    "kernelspec": {
      "display_name": "Python 3",
      "name": "python3"
    },
    "language_info": {
      "codemirror_mode": {
        "name": "ipython",
        "version": 3
      },
      "file_extension": ".py",
      "mimetype": "text/x-python",
      "name": "python",
      "nbconvert_exporter": "python",
      "pygments_lexer": "ipython3",
      "version": "3.11.5"
    }
  },
  "nbformat": 4,
  "nbformat_minor": 0
}
